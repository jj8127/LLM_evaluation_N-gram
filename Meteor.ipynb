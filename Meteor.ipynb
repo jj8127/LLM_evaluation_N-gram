{
 "cells": [
  {
   "cell_type": "code",
   "execution_count": 2,
   "metadata": {},
   "outputs": [
    {
     "name": "stderr",
     "output_type": "stream",
     "text": [
      "/home/du3/Desktop/duchatbot/lib/python3.11/site-packages/tqdm/auto.py:21: TqdmWarning: IProgress not found. Please update jupyter and ipywidgets. See https://ipywidgets.readthedocs.io/en/stable/user_install.html\n",
      "  from .autonotebook import tqdm as notebook_tqdm\n"
     ]
    }
   ],
   "source": [
    "import pandas as pd\n",
    "from transformers import AutoModelForCausalLM, AutoTokenizer\n",
    "from nltk.translate.bleu_score import sentence_bleu, SmoothingFunction\n",
    "from tqdm import tqdm"
   ]
  },
  {
   "cell_type": "code",
   "execution_count": 4,
   "metadata": {},
   "outputs": [],
   "source": [
    "dataset = pd.read_parquet('train-00000-of-00001-1ae224438dce829b.parquet')\n",
    "dataset\n",
    "results_df = pd.DataFrame(columns=[\"instruction\", \"reference\", \"generated\", \"meteor_score\"])"
   ]
  },
  {
   "cell_type": "code",
   "execution_count": 5,
   "metadata": {},
   "outputs": [],
   "source": [
    "def generate_response(model, tokenizer, prompt, max_length=256):\n",
    "    # Tokenize the input\n",
    "    inputs = tokenizer(prompt, return_tensors=\"pt\")\n",
    "    \n",
    "    # Initialize the progress bar\n",
    "    total_steps = max_length  # Number of decoding steps corresponds to max_length\n",
    "    with tqdm(total=total_steps, desc=\"Generating response\", unit=\"step\") as pbar:\n",
    "        # Generate the response\n",
    "        outputs = model.generate(\n",
    "            **inputs,\n",
    "            max_length=max_length,\n",
    "            num_beams=5,\n",
    "            early_stopping=True,\n",
    "            # Update the progress bar on each decoding step\n",
    "            output_scores=True, \n",
    "            return_dict_in_generate=True,\n",
    "        )\n",
    "        \n",
    "        # Update the progress bar\n",
    "        for _ in range(len(outputs.sequences[0])):\n",
    "            pbar.update(1)\n",
    "    \n",
    "    # Decode the generated response\n",
    "    response = tokenizer.decode(outputs.sequences[0], skip_special_tokens=True)\n",
    "    return response"
   ]
  },
  {
   "cell_type": "code",
   "execution_count": 6,
   "metadata": {},
   "outputs": [],
   "source": [
    "from nltk.translate.meteor_score import meteor_score\n",
    "\n",
    "def evaluate_model(dataset, model, tokenizer):\n",
    "    global results_df\n",
    "    meteor_scores = []\n",
    "    for idx in range(len(dataset)):\n",
    "        instruction = dataset.at[idx, \"instruction\"]\n",
    "        reference = dataset.at[idx, \"output\"] \n",
    "        generated_text = generate_response(model, tokenizer, instruction)\n",
    "\n",
    "        # METEOR 점수 계산\n",
    "        meteor_score_value = meteor_score([reference], generated_text)\n",
    "        meteor_scores.append(meteor_score_value)\n",
    "\n",
    "        print(f\"Input: {instruction}\")\n",
    "        print(f\"Reference: {reference}\")\n",
    "        print(f\"Generated: {generated_text}\")\n",
    "        print(f\"METEOR Score: {meteor_score_value}\\n\")\n",
    "        \n",
    "        # DataFrame에 결과 추가\n",
    "        results_df = pd.concat([results_df, pd.DataFrame({\n",
    "            \"instruction\": [instruction],\n",
    "            \"reference\": [reference],\n",
    "            \"generated\": [generated_text],\n",
    "            \"meteor_score\": [meteor_score_value]\n",
    "        })], ignore_index=True)\n",
    "\n",
    "    # CSV 파일로 저장\n",
    "    results_df.to_csv(\"EEVE-Korean-Instruct-10.8B-v1.0_evaluation_meteor.csv\", index=False)\n"
   ]
  },
  {
   "cell_type": "code",
   "execution_count": null,
   "metadata": {},
   "outputs": [],
   "source": [
    "if __name__ == \"__main__\":\n",
    "    parquet_path = \"train-00000-of-00001-1ae224438dce829b.parquet\"  \n",
    "    model_path = \"yanolja/EEVE-Korean-Instruct-10.8B-v1.0\"  \n",
    "\n",
    "    model = AutoModelForCausalLM.from_pretrained(\"yanolja/EEVE-Korean-Instruct-10.8B-v1.0\")\n",
    "    tokenizer = AutoTokenizer.from_pretrained(\"yanolja/EEVE-Korean-Instruct-10.8B-v1.0\")\n",
    "\n",
    "    # 평가 실행\n",
    "    evaluate_model(dataset, model, tokenizer)"
   ]
  }
 ],
 "metadata": {
  "kernelspec": {
   "display_name": "duchatbot",
   "language": "python",
   "name": "python3"
  },
  "language_info": {
   "codemirror_mode": {
    "name": "ipython",
    "version": 3
   },
   "file_extension": ".py",
   "mimetype": "text/x-python",
   "name": "python",
   "nbconvert_exporter": "python",
   "pygments_lexer": "ipython3",
   "version": "3.11.0rc1"
  }
 },
 "nbformat": 4,
 "nbformat_minor": 2
}
